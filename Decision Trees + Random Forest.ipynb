{
 "cells": [
  {
   "cell_type": "markdown",
   "id": "2006f830",
   "metadata": {},
   "source": [
    "# Decision Trees + Random Forest "
   ]
  },
  {
   "cell_type": "code",
   "execution_count": 118,
   "id": "78a50817",
   "metadata": {},
   "outputs": [],
   "source": [
    "from sklearn import datasets \n",
    "from sklearn.model_selection import train_test_split\n",
    "from sklearn.preprocessing import StandardScaler\n",
    "import pandas as pd\n",
    "import numpy as np\n",
    "from sklearn.decomposition import PCA\n",
    "import matplotlib.pyplot as plt\n",
    "import plotly.express as px\n",
    "from sklearn.metrics import classification_report\n",
    "from sklearn.metrics import confusion_matrix\n",
    "from sklearn import tree\n",
    "from sklearn.ensemble import RandomForestClassifier\n",
    "\n",
    "import warnings\n",
    "warnings.filterwarnings(\"ignore\")"
   ]
  },
  {
   "cell_type": "markdown",
   "id": "957c24d5",
   "metadata": {},
   "source": [
    "## Data "
   ]
  },
  {
   "cell_type": "code",
   "execution_count": 79,
   "id": "606c939b",
   "metadata": {},
   "outputs": [],
   "source": [
    "df = datasets.load_iris()"
   ]
  },
  {
   "cell_type": "code",
   "execution_count": 3,
   "id": "3efb40a1",
   "metadata": {},
   "outputs": [],
   "source": [
    "#df"
   ]
  },
  {
   "cell_type": "code",
   "execution_count": 81,
   "id": "696c0eb3",
   "metadata": {},
   "outputs": [],
   "source": [
    "data = df['data']\n",
    "X = pd.DataFrame(data, columns = df['feature_names'])\n",
    "y = pd.DataFrame(df['target'])"
   ]
  },
  {
   "cell_type": "code",
   "execution_count": 82,
   "id": "bf802116",
   "metadata": {},
   "outputs": [],
   "source": [
    "X_train, X_test, y_train, y_test = train_test_split(X, y, \\\n",
    "                                                    test_size=0.33, random_state=42, stratify=y)"
   ]
  },
  {
   "cell_type": "code",
   "execution_count": 84,
   "id": "bd7ffade",
   "metadata": {},
   "outputs": [],
   "source": [
    "# X_train\n",
    "# X_test\n",
    "# y_train\n",
    "# y_test "
   ]
  },
  {
   "cell_type": "code",
   "execution_count": 85,
   "id": "6ca32a95",
   "metadata": {},
   "outputs": [],
   "source": [
    "X_train = pd.DataFrame(X_train)\n",
    "X_test = pd.DataFrame(X_test)\n",
    "y_train = pd.DataFrame(y_train)\n",
    "y_test = pd.DataFrame(y_test)\n"
   ]
  },
  {
   "cell_type": "code",
   "execution_count": 86,
   "id": "c1e12707",
   "metadata": {},
   "outputs": [
    {
     "data": {
      "text/html": [
       "<div>\n",
       "<style scoped>\n",
       "    .dataframe tbody tr th:only-of-type {\n",
       "        vertical-align: middle;\n",
       "    }\n",
       "\n",
       "    .dataframe tbody tr th {\n",
       "        vertical-align: top;\n",
       "    }\n",
       "\n",
       "    .dataframe thead th {\n",
       "        text-align: right;\n",
       "    }\n",
       "</style>\n",
       "<table border=\"1\" class=\"dataframe\">\n",
       "  <thead>\n",
       "    <tr style=\"text-align: right;\">\n",
       "      <th></th>\n",
       "      <th>sepal length (cm)</th>\n",
       "      <th>sepal width (cm)</th>\n",
       "      <th>petal length (cm)</th>\n",
       "      <th>petal width (cm)</th>\n",
       "    </tr>\n",
       "  </thead>\n",
       "  <tbody>\n",
       "    <tr>\n",
       "      <th>136</th>\n",
       "      <td>6.3</td>\n",
       "      <td>3.4</td>\n",
       "      <td>5.6</td>\n",
       "      <td>2.4</td>\n",
       "    </tr>\n",
       "    <tr>\n",
       "      <th>17</th>\n",
       "      <td>5.1</td>\n",
       "      <td>3.5</td>\n",
       "      <td>1.4</td>\n",
       "      <td>0.3</td>\n",
       "    </tr>\n",
       "    <tr>\n",
       "      <th>142</th>\n",
       "      <td>5.8</td>\n",
       "      <td>2.7</td>\n",
       "      <td>5.1</td>\n",
       "      <td>1.9</td>\n",
       "    </tr>\n",
       "    <tr>\n",
       "      <th>59</th>\n",
       "      <td>5.2</td>\n",
       "      <td>2.7</td>\n",
       "      <td>3.9</td>\n",
       "      <td>1.4</td>\n",
       "    </tr>\n",
       "    <tr>\n",
       "      <th>6</th>\n",
       "      <td>4.6</td>\n",
       "      <td>3.4</td>\n",
       "      <td>1.4</td>\n",
       "      <td>0.3</td>\n",
       "    </tr>\n",
       "    <tr>\n",
       "      <th>...</th>\n",
       "      <td>...</td>\n",
       "      <td>...</td>\n",
       "      <td>...</td>\n",
       "      <td>...</td>\n",
       "    </tr>\n",
       "    <tr>\n",
       "      <th>49</th>\n",
       "      <td>5.0</td>\n",
       "      <td>3.3</td>\n",
       "      <td>1.4</td>\n",
       "      <td>0.2</td>\n",
       "    </tr>\n",
       "    <tr>\n",
       "      <th>86</th>\n",
       "      <td>6.7</td>\n",
       "      <td>3.1</td>\n",
       "      <td>4.7</td>\n",
       "      <td>1.5</td>\n",
       "    </tr>\n",
       "    <tr>\n",
       "      <th>45</th>\n",
       "      <td>4.8</td>\n",
       "      <td>3.0</td>\n",
       "      <td>1.4</td>\n",
       "      <td>0.3</td>\n",
       "    </tr>\n",
       "    <tr>\n",
       "      <th>60</th>\n",
       "      <td>5.0</td>\n",
       "      <td>2.0</td>\n",
       "      <td>3.5</td>\n",
       "      <td>1.0</td>\n",
       "    </tr>\n",
       "    <tr>\n",
       "      <th>47</th>\n",
       "      <td>4.6</td>\n",
       "      <td>3.2</td>\n",
       "      <td>1.4</td>\n",
       "      <td>0.2</td>\n",
       "    </tr>\n",
       "  </tbody>\n",
       "</table>\n",
       "<p>100 rows × 4 columns</p>\n",
       "</div>"
      ],
      "text/plain": [
       "     sepal length (cm)  sepal width (cm)  petal length (cm)  petal width (cm)\n",
       "136                6.3               3.4                5.6               2.4\n",
       "17                 5.1               3.5                1.4               0.3\n",
       "142                5.8               2.7                5.1               1.9\n",
       "59                 5.2               2.7                3.9               1.4\n",
       "6                  4.6               3.4                1.4               0.3\n",
       "..                 ...               ...                ...               ...\n",
       "49                 5.0               3.3                1.4               0.2\n",
       "86                 6.7               3.1                4.7               1.5\n",
       "45                 4.8               3.0                1.4               0.3\n",
       "60                 5.0               2.0                3.5               1.0\n",
       "47                 4.6               3.2                1.4               0.2\n",
       "\n",
       "[100 rows x 4 columns]"
      ]
     },
     "execution_count": 86,
     "metadata": {},
     "output_type": "execute_result"
    }
   ],
   "source": [
    "X_train\n",
    "#X_test\n",
    "#y_train\n",
    "#y_test "
   ]
  },
  {
   "cell_type": "markdown",
   "id": "3ff17ddc",
   "metadata": {},
   "source": [
    "## Zero-Mean and Unit Variance"
   ]
  },
  {
   "cell_type": "code",
   "execution_count": 87,
   "id": "335afbe3",
   "metadata": {},
   "outputs": [
    {
     "data": {
      "text/plain": [
       "StandardScaler()"
      ]
     },
     "execution_count": 87,
     "metadata": {},
     "output_type": "execute_result"
    }
   ],
   "source": [
    "scaler = StandardScaler()\n",
    "scaler.fit(X_train)"
   ]
  },
  {
   "cell_type": "code",
   "execution_count": 88,
   "id": "b9a39e06",
   "metadata": {},
   "outputs": [
    {
     "data": {
      "text/plain": [
       "array([5.883, 3.074, 3.764, 1.199])"
      ]
     },
     "execution_count": 88,
     "metadata": {},
     "output_type": "execute_result"
    }
   ],
   "source": [
    "scaler.mean_"
   ]
  },
  {
   "cell_type": "code",
   "execution_count": 89,
   "id": "a12eb648",
   "metadata": {},
   "outputs": [],
   "source": [
    "X_train_standardized = scaler.transform(X_train)\n",
    "X_train_standardized = pd.DataFrame(X_train_standardized)\n",
    "X_train_standardized.columns = X_train.columns\n",
    "\n",
    "X_test_standardized = scaler.transform(X_test)\n",
    "X_test_standardized = pd.DataFrame(X_test_standardized)\n",
    "X_test_standardized.columns = X_test.columns"
   ]
  },
  {
   "cell_type": "code",
   "execution_count": 90,
   "id": "a1cba222",
   "metadata": {},
   "outputs": [
    {
     "data": {
      "text/html": [
       "<div>\n",
       "<style scoped>\n",
       "    .dataframe tbody tr th:only-of-type {\n",
       "        vertical-align: middle;\n",
       "    }\n",
       "\n",
       "    .dataframe tbody tr th {\n",
       "        vertical-align: top;\n",
       "    }\n",
       "\n",
       "    .dataframe thead th {\n",
       "        text-align: right;\n",
       "    }\n",
       "</style>\n",
       "<table border=\"1\" class=\"dataframe\">\n",
       "  <thead>\n",
       "    <tr style=\"text-align: right;\">\n",
       "      <th></th>\n",
       "      <th>sepal length (cm)</th>\n",
       "      <th>sepal width (cm)</th>\n",
       "      <th>petal length (cm)</th>\n",
       "      <th>petal width (cm)</th>\n",
       "    </tr>\n",
       "  </thead>\n",
       "  <tbody>\n",
       "    <tr>\n",
       "      <th>0</th>\n",
       "      <td>0.489131</td>\n",
       "      <td>0.714933</td>\n",
       "      <td>1.034255</td>\n",
       "      <td>1.555028</td>\n",
       "    </tr>\n",
       "    <tr>\n",
       "      <th>1</th>\n",
       "      <td>-0.918440</td>\n",
       "      <td>0.934237</td>\n",
       "      <td>-1.331687</td>\n",
       "      <td>-1.164005</td>\n",
       "    </tr>\n",
       "    <tr>\n",
       "      <th>2</th>\n",
       "      <td>-0.097357</td>\n",
       "      <td>-0.820199</td>\n",
       "      <td>0.752595</td>\n",
       "      <td>0.907639</td>\n",
       "    </tr>\n",
       "    <tr>\n",
       "      <th>3</th>\n",
       "      <td>-0.801143</td>\n",
       "      <td>-0.820199</td>\n",
       "      <td>0.076611</td>\n",
       "      <td>0.260250</td>\n",
       "    </tr>\n",
       "    <tr>\n",
       "      <th>4</th>\n",
       "      <td>-1.504929</td>\n",
       "      <td>0.714933</td>\n",
       "      <td>-1.331687</td>\n",
       "      <td>-1.164005</td>\n",
       "    </tr>\n",
       "    <tr>\n",
       "      <th>...</th>\n",
       "      <td>...</td>\n",
       "      <td>...</td>\n",
       "      <td>...</td>\n",
       "      <td>...</td>\n",
       "    </tr>\n",
       "    <tr>\n",
       "      <th>95</th>\n",
       "      <td>-1.035738</td>\n",
       "      <td>0.495628</td>\n",
       "      <td>-1.331687</td>\n",
       "      <td>-1.293483</td>\n",
       "    </tr>\n",
       "    <tr>\n",
       "      <th>96</th>\n",
       "      <td>0.958322</td>\n",
       "      <td>0.057019</td>\n",
       "      <td>0.527267</td>\n",
       "      <td>0.389728</td>\n",
       "    </tr>\n",
       "    <tr>\n",
       "      <th>97</th>\n",
       "      <td>-1.270333</td>\n",
       "      <td>-0.162285</td>\n",
       "      <td>-1.331687</td>\n",
       "      <td>-1.164005</td>\n",
       "    </tr>\n",
       "    <tr>\n",
       "      <th>98</th>\n",
       "      <td>-1.035738</td>\n",
       "      <td>-2.355331</td>\n",
       "      <td>-0.148716</td>\n",
       "      <td>-0.257661</td>\n",
       "    </tr>\n",
       "    <tr>\n",
       "      <th>99</th>\n",
       "      <td>-1.504929</td>\n",
       "      <td>0.276324</td>\n",
       "      <td>-1.331687</td>\n",
       "      <td>-1.293483</td>\n",
       "    </tr>\n",
       "  </tbody>\n",
       "</table>\n",
       "<p>100 rows × 4 columns</p>\n",
       "</div>"
      ],
      "text/plain": [
       "    sepal length (cm)  sepal width (cm)  petal length (cm)  petal width (cm)\n",
       "0            0.489131          0.714933           1.034255          1.555028\n",
       "1           -0.918440          0.934237          -1.331687         -1.164005\n",
       "2           -0.097357         -0.820199           0.752595          0.907639\n",
       "3           -0.801143         -0.820199           0.076611          0.260250\n",
       "4           -1.504929          0.714933          -1.331687         -1.164005\n",
       "..                ...               ...                ...               ...\n",
       "95          -1.035738          0.495628          -1.331687         -1.293483\n",
       "96           0.958322          0.057019           0.527267          0.389728\n",
       "97          -1.270333         -0.162285          -1.331687         -1.164005\n",
       "98          -1.035738         -2.355331          -0.148716         -0.257661\n",
       "99          -1.504929          0.276324          -1.331687         -1.293483\n",
       "\n",
       "[100 rows x 4 columns]"
      ]
     },
     "execution_count": 90,
     "metadata": {},
     "output_type": "execute_result"
    }
   ],
   "source": [
    "X_train_standardized"
   ]
  },
  {
   "cell_type": "markdown",
   "id": "6957055b",
   "metadata": {},
   "source": [
    "## Principal Component Analysis"
   ]
  },
  {
   "cell_type": "code",
   "execution_count": 91,
   "id": "38e73e7e",
   "metadata": {},
   "outputs": [
    {
     "name": "stdout",
     "output_type": "stream",
     "text": [
      "[0.73282843 0.2267426  0.03629189 0.00413708]\n"
     ]
    }
   ],
   "source": [
    "pca = PCA()\n",
    "pca.fit(X_train_standardized)\n",
    "print(pca.explained_variance_ratio_)"
   ]
  },
  {
   "cell_type": "code",
   "execution_count": 92,
   "id": "0fc3d889",
   "metadata": {},
   "outputs": [
    {
     "data": {
      "text/plain": [
       "Text(0, 0.5, 'Explained Variance Ratio')"
      ]
     },
     "execution_count": 92,
     "metadata": {},
     "output_type": "execute_result"
    },
    {
     "data": {
      "image/png": "[encoded data removed]",
      "text/plain": [
       "<Figure size 432x288 with 1 Axes>"
      ]
     },
     "metadata": {
      "needs_background": "light"
     },
     "output_type": "display_data"
    }
   ],
   "source": [
    "pc_name = [i+1 for i in range(len(pca.explained_variance_ratio_))]\n",
    "plt.bar(pc_name, pca.explained_variance_ratio_)\n",
    "plt.xlabel(\"Principal Components\")\n",
    "plt.ylabel(\"Explained Variance Ratio\")"
   ]
  },
  {
   "cell_type": "code",
   "execution_count": 93,
   "id": "ce3be963",
   "metadata": {},
   "outputs": [
    {
     "data": {
      "text/plain": [
       "0.9595710286013285"
      ]
     },
     "execution_count": 93,
     "metadata": {},
     "output_type": "execute_result"
    }
   ],
   "source": [
    "np.sum(pca.explained_variance_ratio_[0:2])"
   ]
  },
  {
   "cell_type": "code",
   "execution_count": 94,
   "id": "b08a36a1",
   "metadata": {},
   "outputs": [],
   "source": [
    "X_train_pca = pca.transform(X_train_standardized)\n",
    "X_test_pca = pca.transform(X_test_standardized)"
   ]
  },
  {
   "cell_type": "markdown",
   "id": "920532f0",
   "metadata": {},
   "source": [
    "## Visualization of the First 2 PC's"
   ]
  },
  {
   "cell_type": "code",
   "execution_count": 95,
   "id": "10aaa6a4",
   "metadata": {},
   "outputs": [
    {
     "data": {
      "text/plain": [
       "Text(0, 0.5, 'Pricipal Component 2')"
      ]
     },
     "execution_count": 95,
     "metadata": {},
     "output_type": "execute_result"
    },
    {
     "data": {
      "image/png": "[encoded data removed]",
      "text/plain": [
       "<Figure size 432x288 with 1 Axes>"
      ]
     },
     "metadata": {
      "needs_background": "light"
     },
     "output_type": "display_data"
    }
   ],
   "source": [
    "plt.scatter(X_train_pca[:, 0], X_train_pca[:, 1], c = y_train, marker = '^')\n",
    "plt.scatter(X_test_pca[:, 0], X_test_pca[:, 1], c = y_test)\n",
    "\n",
    "plt.xlabel('Pricipal Component 1')\n",
    "plt.ylabel('Pricipal Component 2')"
   ]
  },
  {
   "cell_type": "code",
   "execution_count": 96,
   "id": "4cb51db4",
   "metadata": {},
   "outputs": [
    {
     "data": {
      "text/plain": [
       "<mpl_toolkits.mplot3d.art3d.Path3DCollection at 0x2606b069a60>"
      ]
     },
     "execution_count": 96,
     "metadata": {},
     "output_type": "execute_result"
    },
    {
     "data": {
      "image/png": "[encoded data removed]",
      "text/plain": [
       "<Figure size 720x720 with 1 Axes>"
      ]
     },
     "metadata": {
      "needs_background": "light"
     },
     "output_type": "display_data"
    }
   ],
   "source": [
    "fig = plt.figure(figsize = (10, 10))\n",
    "ax = plt.axes(projection =\"3d\")\n",
    "ax.scatter3D(X_train_pca[:, 0], X_train_pca[:, 1], X_train_pca[:, 2], c = y_train)"
   ]
  },
  {
   "cell_type": "code",
   "execution_count": 97,
   "id": "d004ae30",
   "metadata": {},
   "outputs": [
    {
     "data": {
      "application/vnd.plotly.v1+json": {
       "config": {
        "plotlyServerURL": "https://plot.ly"
       },
       "data": [
        {
         "hovertemplate": "0=%{x}<br>1=%{y}<br>2=%{z}<br>y=%{marker.color}<extra></extra>",
         "legendgroup": "",
         "marker": {
          "color": [
           2,
           0,
           2,
           1,
           0,
           0,
           0,
           2,
           0,
           0,
           1,
           0,
           1,
           1,
           2,
           2,
           0,
           0,
           2,
           0,
           2,
           0,
           0,
           2,
           0,
           1,
           2,
           1,
           0,
           1,
           0,
           2,
           1,
           2,
           1,
           0,
           2,
           0,
           2,
           0,
           1,
           1,
           0,
           2,
           1,
           1,
           0,
           2,
           1,
           2,
           0,
           1,
           0,
           2,
           1,
           1,
           1,
           1,
           1,
           1,
           2,
           1,
           2,
           2,
           0,
           2,
           1,
           1,
           2,
           0,
           2,
           2,
           2,
           0,
           2,
           0,
           0,
           2,
           2,
           2,
           0,
           1,
           2,
           2,
           0,
           1,
           1,
           1,
           1,
           1,
           0,
           2,
           1,
           2,
           0,
           0,
           1,
           0,
           1,
           0
          ],
          "coloraxis": "coloraxis",
          "symbol": "circle"
         },
         "mode": "markers",
         "name": "",
         "scene": "scene",
         "showlegend": false,
         "type": "scatter3d",
         "x": [
          1.5434616143638005,
          -2.1583863094133893,
          1.114588245027226,
          -0.011795368288838958,
          -2.4080688795111094,
          -2.5592412410231034,
          -2.2069427195160083,
          1.3089548668800186,
          -2.1180367126620543,
          -2.0891276703471378,
          1.0321178519605645,
          -2.162122245470228,
          -0.46996285301930774,
          0.5123963465434247,
          1.7351545022897497,
          0.9286153003798273,
          -2.392374927733978,
          -2.3511380629319603,
          2.1477925155404423,
          -2.096622149727053,
          1.4213772336627295,
          -2.19193782656469,
          -2.1945956263000435,
          2.2652344214051294,
          -2.4857059294705834,
          0.8895181061499697,
          1.13171020128447,
          0.2489619538951847,
          -2.6040351033859532,
          0.24844048819461798,
          -2.198175899006432,
          1.953597491229591,
          0.09582819242771648,
          2.7285499124810597,
          0.5452321931859826,
          -1.936706242851039,
          1.2097130535940606,
          -2.3002737212526143,
          1.550415357314286,
          -2.2377938910575352,
          -0.05285729901154329,
          -0.06838032112605498,
          -2.166071657064106,
          1.8031408002263394,
          -0.009830631795991404,
          0.8390002960918769,
          -2.0177519679749625,
          1.114588245027226,
          0.7142547791180788,
          2.3860697361220957,
          -2.25262384992954,
          0.3025033660387475,
          -2.3132906025655284,
          1.8052970728693096,
          0.6683787760170499,
          0.44385004144854323,
          1.018751102489023,
          0.5995052100297774,
          0.9885730555818196,
          0.8423897005274632,
          0.9409238521380664,
          1.2091716492853104,
          2.3682195117019935,
          1.2841316287805686,
          -2.023452640524649,
          1.3276764251593136,
          0.21165522995818198,
          1.2018521039847097,
          1.8324156448913707,
          -2.2738475445937394,
          3.222599453205792,
          1.8117286822399077,
          2.684308716322435,
          -2.3406040472750864,
          1.2040117131650532,
          -2.292588373601897,
          -1.9356473772584164,
          2.217569283769887,
          1.3964135985249977,
          1.5061582269641716,
          -2.137143344020328,
          1.0669184350959695,
          1.9889388107944252,
          1.9066785567274283,
          -1.8098237239631325,
          1.1815156773711935,
          0.5964623372154444,
          1.1638370504930318,
          0.07352302490465931,
          0.4156533331049971,
          -2.2313808845364793,
          1.6616191907372302,
          0.2594959695520583,
          1.9926940175801269,
          -2.035414660661635,
          -2.1765864019921173,
          1.0133770229524068,
          -2.052186748760252,
          -0.1502900391551045,
          -2.3646956806743047
         ],
         "y": [
          -0.9855554575796518,
          -0.4140252534899427,
          0.7081219905039388,
          1.0281205261683009,
          -0.0008627467568060441,
          -1.664681124051605,
          -2.5135379557442916,
          -0.3581731575224948,
          0.5332599750961357,
          0.4934376715833607,
          0.2576700187856024,
          0.5025464156704332,
          1.523371040280821,
          1.7491368090840467,
          0.2250793606997656,
          0.06288290346672018,
          -2.0013876021542067,
          -0.5673048636752419,
          -0.48177874222818373,
          -1.0455530794446095,
          0.4583942237194111,
          -0.8988493748188096,
          -0.08521232964341971,
          -2.4503748483688876,
          -0.5164004275113755,
          0.029907768533787606,
          0.35178408562672814,
          1.3182368981593031,
          0.9653981687364426,
          1.1152680416411318,
          0.7504995426604131,
          -0.9596363121887549,
          1.5445852098106536,
          -0.7547171599911331,
          0.20301070253302272,
          0.6538526372917132,
          1.1511504197560116,
          -1.028550781101459,
          -0.6039541471789842,
          0.37087162082376374,
          0.46759857494192486,
          1.0676546427378646,
          -1.363283870640041,
          -0.5925044616036638,
          1.5556673424617455,
          -0.17943824477441167,
          -0.5701258891460275,
          0.7081219905039388,
          -0.3395650235395528,
          -2.390921118081503,
          -0.37025617284912915,
          0.9977745196668277,
          1.1127576132296828,
          -0.7983737095736367,
          0.11941931837943431,
          0.4549106066510416,
          0.651856838611568,
          0.4502056307899773,
          1.3843458999872036,
          -0.42541798320037194,
          0.5823673613493286,
          0.13744490951425334,
          -0.18452701471412888,
          0.5121990513350795,
          -0.18110103627909455,
          -0.6144768298665215,
          0.7955638618816812,
          -0.5279850542611308,
          -0.348498111741723,
          0.6188247478137436,
          0.04623191689337312,
          -0.47605732530559586,
          -0.7045709225602915,
          -1.0214154255784058,
          1.6838592030084885,
          -0.07929216395136104,
          -0.4035025708024054,
          -1.7890604658763016,
          0.09001723868861175,
          0.9094850113823192,
          -0.4486855900436842,
          -0.7609092714719788,
          -0.8208261618190335,
          -0.9065896833061118,
          -0.3463104160222518,
          0.9478933762946288,
          0.025593438481520073,
          1.6101347616749977,
          0.21888724921891986,
          0.10796963280411383,
          -0.40491650940287016,
          -0.9232013358404648,
          0.8641263362561384,
          -0.782977246870278,
          -1.3711774248961193,
          0.045247275372255515,
          -0.4404468929795031,
          0.732282054486268,
          2.585328765370418,
          0.41661409002859734
         ],
         "z": [
          0.9401298749256455,
          -0.05138256085628362,
          0.5692628766989585,
          0.5728863304597748,
          0.3236575049187121,
          -0.000500017586230398,
          -0.029081397385029097,
          0.2037957358990549,
          -0.060520707900669136,
          -0.15290229764167143,
          -0.3446542589060817,
          -0.23574531118920025,
          0.24300311369816385,
          -0.6741370465186055,
          0.3130109205938681,
          0.548513353463484,
          -0.13067572648961837,
          -0.0004597740486477561,
          -0.15992444173311723,
          0.2162579809548684,
          1.0324427671034078,
          -0.19831727239428124,
          0.10911559625767071,
          -0.49155363518988,
          0.0014981900921830125,
          -0.5461764410226944,
          0.1734389389068686,
          0.14529135056619713,
          0.19377328406358954,
          0.14173560789603976,
          -0.2074897682202864,
          0.6423847671055704,
          -0.08452072330094908,
          -0.4878830566629378,
          -0.22971436642717918,
          -0.2790874859441947,
          0.6313966105485955,
          0.10309251919677292,
          0.6518144021982211,
          0.07324509245449558,
          0.22602721533449074,
          -0.2617778830495133,
          -0.0346638017592574,
          0.0207392760471992,
          -0.17494434890111968,
          -0.4295298289136437,
          -0.4810100972098952,
          0.5692628766989585,
          0.6237011626391692,
          -0.13352381656017637,
          0.02583780477943459,
          -0.14298977337960714,
          0.16559233341387766,
          1.004330514016936,
          -0.39931632180389964,
          -0.21662004756354858,
          0.15113188067965133,
          -0.24639877674258603,
          -0.6007236680637276,
          -0.4653659839351992,
          0.8555114441847295,
          -0.6667389814134077,
          -0.6627818231215833,
          0.047253750604345585,
          0.08245783181808333,
          0.3033231597619913,
          -0.10160556276544369,
          -0.5142218655011825,
          0.06415604312139637,
          0.10150063542340955,
          -0.6230974509090247,
          -0.6665210992117642,
          -0.5308650458064266,
          0.027830117701885558,
          -0.18411585825454438,
          0.0863737600997458,
          0.29710868157994624,
          0.39559679487475113,
          0.19824768030644693,
          0.039747730870905856,
          -0.21144594003953157,
          -0.6480622581755496,
          0.2581319619669868,
          -0.387744202677813,
          -0.26432669098799916,
          -0.29920493537185133,
          0.009636283633440264,
          -0.3916208738944731,
          0.15283171908125606,
          0.23175880434712245,
          -0.13422557440381258,
          0.3110127129154547,
          0.1735812423167307,
          0.3580941637606308,
          -0.004341353548690889,
          -0.14735424204906292,
          -0.3597811342297452,
          -0.04180374112522861,
          0.03804002476817775,
          0.14288484603757298
         ]
        }
       ],
       "layout": {
        "coloraxis": {
         "colorbar": {
          "title": {
           "text": "y"
          }
         },
         "colorscale": [
          [
           0,
           "#0d0887"
          ],
          [
           0.1111111111111111,
           "#46039f"
          ],
          [
           0.2222222222222222,
           "#7201a8"
          ],
          [
           0.3333333333333333,
           "#9c179e"
          ],
          [
           0.4444444444444444,
           "#bd3786"
          ],
          [
           0.5555555555555556,
           "#d8576b"
          ],
          [
           0.6666666666666666,
           "#ed7953"
          ],
          [
           0.7777777777777778,
           "#fb9f3a"
          ],
          [
           0.8888888888888888,
           "#fdca26"
          ],
          [
           1,
           "#f0f921"
          ]
         ]
        },
        "legend": {
         "tracegroupgap": 0
        },
        "margin": {
         "t": 60
        },
        "scene": {
         "domain": {
          "x": [
           0,
           1
          ],
          "y": [
           0,
           1
          ]
         },
         "xaxis": {
          "title": {
           "text": "0"
          }
         },
         "yaxis": {
          "title": {
           "text": "1"
          }
         },
         "zaxis": {
          "title": {
           "text": "2"
          }
         }
        },
        "template": {
         "data": {
          "bar": [
           {
            "error_x": {
             "color": "#2a3f5f"
            },
            "error_y": {
             "color": "#2a3f5f"
            },
            "marker": {
             "line": {
              "color": "#E5ECF6",
              "width": 0.5
             },
             "pattern": {
              "fillmode": "overlay",
              "size": 10,
              "solidity": 0.2
             }
            },
            "type": "bar"
           }
          ],
          "barpolar": [
           {
            "marker": {
             "line": {
              "color": "#E5ECF6",
              "width": 0.5
             },
             "pattern": {
              "fillmode": "overlay",
              "size": 10,
              "solidity": 0.2
             }
            },
            "type": "barpolar"
           }
          ],
          "carpet": [
           {
            "aaxis": {
             "endlinecolor": "#2a3f5f",
             "gridcolor": "white",
             "linecolor": "white",
             "minorgridcolor": "white",
             "startlinecolor": "#2a3f5f"
            },
            "baxis": {
             "endlinecolor": "#2a3f5f",
             "gridcolor": "white",
             "linecolor": "white",
             "minorgridcolor": "white",
             "startlinecolor": "#2a3f5f"
            },
            "type": "carpet"
           }
          ],
          "choropleth": [
           {
            "colorbar": {
             "outlinewidth": 0,
             "ticks": ""
            },
            "type": "choropleth"
           }
          ],
          "contour": [
           {
            "colorbar": {
             "outlinewidth": 0,
             "ticks": ""
            },
            "colorscale": [
             [
              0,
              "#0d0887"
             ],
             [
              0.1111111111111111,
              "#46039f"
             ],
             [
              0.2222222222222222,
              "#7201a8"
             ],
             [
              0.3333333333333333,
              "#9c179e"
             ],
             [
              0.4444444444444444,
              "#bd3786"
             ],
             [
              0.5555555555555556,
              "#d8576b"
             ],
             [
              0.6666666666666666,
              "#ed7953"
             ],
             [
              0.7777777777777778,
              "#fb9f3a"
             ],
             [
              0.8888888888888888,
              "#fdca26"
             ],
             [
              1,
              "#f0f921"
             ]
            ],
            "type": "contour"
           }
          ],
          "contourcarpet": [
           {
            "colorbar": {
             "outlinewidth": 0,
             "ticks": ""
            },
            "type": "contourcarpet"
           }
          ],
          "heatmap": [
           {
            "colorbar": {
             "outlinewidth": 0,
             "ticks": ""
            },
            "colorscale": [
             [
              0,
              "#0d0887"
             ],
             [
              0.1111111111111111,
              "#46039f"
             ],
             [
              0.2222222222222222,
              "#7201a8"
             ],
             [
              0.3333333333333333,
              "#9c179e"
             ],
             [
              0.4444444444444444,
              "#bd3786"
             ],
             [
              0.5555555555555556,
              "#d8576b"
             ],
             [
              0.6666666666666666,
              "#ed7953"
             ],
             [
              0.7777777777777778,
              "#fb9f3a"
             ],
             [
              0.8888888888888888,
              "#fdca26"
             ],
             [
              1,
              "#f0f921"
             ]
            ],
            "type": "heatmap"
           }
          ],
          "heatmapgl": [
           {
            "colorbar": {
             "outlinewidth": 0,
             "ticks": ""
            },
            "colorscale": [
             [
              0,
              "#0d0887"
             ],
             [
              0.1111111111111111,
              "#46039f"
             ],
             [
              0.2222222222222222,
              "#7201a8"
             ],
             [
              0.3333333333333333,
              "#9c179e"
             ],
             [
              0.4444444444444444,
              "#bd3786"
             ],
             [
              0.5555555555555556,
              "#d8576b"
             ],
             [
              0.6666666666666666,
              "#ed7953"
             ],
             [
              0.7777777777777778,
              "#fb9f3a"
             ],
             [
              0.8888888888888888,
              "#fdca26"
             ],
             [
              1,
              "#f0f921"
             ]
            ],
            "type": "heatmapgl"
           }
          ],
          "histogram": [
           {
            "marker": {
             "pattern": {
              "fillmode": "overlay",
              "size": 10,
              "solidity": 0.2
             }
            },
            "type": "histogram"
           }
          ],
          "histogram2d": [
           {
            "colorbar": {
             "outlinewidth": 0,
             "ticks": ""
            },
            "colorscale": [
             [
              0,
              "#0d0887"
             ],
             [
              0.1111111111111111,
              "#46039f"
             ],
             [
              0.2222222222222222,
              "#7201a8"
             ],
             [
              0.3333333333333333,
              "#9c179e"
             ],
             [
              0.4444444444444444,
              "#bd3786"
             ],
             [
              0.5555555555555556,
              "#d8576b"
             ],
             [
              0.6666666666666666,
              "#ed7953"
             ],
             [
              0.7777777777777778,
              "#fb9f3a"
             ],
             [
              0.8888888888888888,
              "#fdca26"
             ],
             [
              1,
              "#f0f921"
             ]
            ],
            "type": "histogram2d"
           }
          ],
          "histogram2dcontour": [
           {
            "colorbar": {
             "outlinewidth": 0,
             "ticks": ""
            },
            "colorscale": [
             [
              0,
              "#0d0887"
             ],
             [
              0.1111111111111111,
              "#46039f"
             ],
             [
              0.2222222222222222,
              "#7201a8"
             ],
             [
              0.3333333333333333,
              "#9c179e"
             ],
             [
              0.4444444444444444,
              "#bd3786"
             ],
             [
              0.5555555555555556,
              "#d8576b"
             ],
             [
              0.6666666666666666,
              "#ed7953"
             ],
             [
              0.7777777777777778,
              "#fb9f3a"
             ],
             [
              0.8888888888888888,
              "#fdca26"
             ],
             [
              1,
              "#f0f921"
             ]
            ],
            "type": "histogram2dcontour"
           }
          ],
          "mesh3d": [
           {
            "colorbar": {
             "outlinewidth": 0,
             "ticks": ""
            },
            "type": "mesh3d"
           }
          ],
          "parcoords": [
           {
            "line": {
             "colorbar": {
              "outlinewidth": 0,
              "ticks": ""
             }
            },
            "type": "parcoords"
           }
          ],
          "pie": [
           {
            "automargin": true,
            "type": "pie"
           }
          ],
          "scatter": [
           {
            "marker": {
             "colorbar": {
              "outlinewidth": 0,
              "ticks": ""
             }
            },
            "type": "scatter"
           }
          ],
          "scatter3d": [
           {
            "line": {
             "colorbar": {
              "outlinewidth": 0,
              "ticks": ""
             }
            },
            "marker": {
             "colorbar": {
              "outlinewidth": 0,
              "ticks": ""
             }
            },
            "type": "scatter3d"
           }
          ],
          "scattercarpet": [
           {
            "marker": {
             "colorbar": {
              "outlinewidth": 0,
              "ticks": ""
             }
            },
            "type": "scattercarpet"
           }
          ],
          "scattergeo": [
           {
            "marker": {
             "colorbar": {
              "outlinewidth": 0,
              "ticks": ""
             }
            },
            "type": "scattergeo"
           }
          ],
          "scattergl": [
           {
            "marker": {
             "colorbar": {
              "outlinewidth": 0,
              "ticks": ""
             }
            },
            "type": "scattergl"
           }
          ],
          "scattermapbox": [
           {
            "marker": {
             "colorbar": {
              "outlinewidth": 0,
              "ticks": ""
             }
            },
            "type": "scattermapbox"
           }
          ],
          "scatterpolar": [
           {
            "marker": {
             "colorbar": {
              "outlinewidth": 0,
              "ticks": ""
             }
            },
            "type": "scatterpolar"
           }
          ],
          "scatterpolargl": [
           {
            "marker": {
             "colorbar": {
              "outlinewidth": 0,
              "ticks": ""
             }
            },
            "type": "scatterpolargl"
           }
          ],
          "scatterternary": [
           {
            "marker": {
             "colorbar": {
              "outlinewidth": 0,
              "ticks": ""
             }
            },
            "type": "scatterternary"
           }
          ],
          "surface": [
           {
            "colorbar": {
             "outlinewidth": 0,
             "ticks": ""
            },
            "colorscale": [
             [
              0,
              "#0d0887"
             ],
             [
              0.1111111111111111,
              "#46039f"
             ],
             [
              0.2222222222222222,
              "#7201a8"
             ],
             [
              0.3333333333333333,
              "#9c179e"
             ],
             [
              0.4444444444444444,
              "#bd3786"
             ],
             [
              0.5555555555555556,
              "#d8576b"
             ],
             [
              0.6666666666666666,
              "#ed7953"
             ],
             [
              0.7777777777777778,
              "#fb9f3a"
             ],
             [
              0.8888888888888888,
              "#fdca26"
             ],
             [
              1,
              "#f0f921"
             ]
            ],
            "type": "surface"
           }
          ],
          "table": [
           {
            "cells": {
             "fill": {
              "color": "#EBF0F8"
             },
             "line": {
              "color": "white"
             }
            },
            "header": {
             "fill": {
              "color": "#C8D4E3"
             },
             "line": {
              "color": "white"
             }
            },
            "type": "table"
           }
          ]
         },
         "layout": {
          "annotationdefaults": {
           "arrowcolor": "#2a3f5f",
           "arrowhead": 0,
           "arrowwidth": 1
          },
          "autotypenumbers": "strict",
          "coloraxis": {
           "colorbar": {
            "outlinewidth": 0,
            "ticks": ""
           }
          },
          "colorscale": {
           "diverging": [
            [
             0,
             "#8e0152"
            ],
            [
             0.1,
             "#c51b7d"
            ],
            [
             0.2,
             "#de77ae"
            ],
            [
             0.3,
             "#f1b6da"
            ],
            [
             0.4,
             "#fde0ef"
            ],
            [
             0.5,
             "#f7f7f7"
            ],
            [
             0.6,
             "#e6f5d0"
            ],
            [
             0.7,
             "#b8e186"
            ],
            [
             0.8,
             "#7fbc41"
            ],
            [
             0.9,
             "#4d9221"
            ],
            [
             1,
             "#276419"
            ]
           ],
           "sequential": [
            [
             0,
             "#0d0887"
            ],
            [
             0.1111111111111111,
             "#46039f"
            ],
            [
             0.2222222222222222,
             "#7201a8"
            ],
            [
             0.3333333333333333,
             "#9c179e"
            ],
            [
             0.4444444444444444,
             "#bd3786"
            ],
            [
             0.5555555555555556,
             "#d8576b"
            ],
            [
             0.6666666666666666,
             "#ed7953"
            ],
            [
             0.7777777777777778,
             "#fb9f3a"
            ],
            [
             0.8888888888888888,
             "#fdca26"
            ],
            [
             1,
             "#f0f921"
            ]
           ],
           "sequentialminus": [
            [
             0,
             "#0d0887"
            ],
            [
             0.1111111111111111,
             "#46039f"
            ],
            [
             0.2222222222222222,
             "#7201a8"
            ],
            [
             0.3333333333333333,
             "#9c179e"
            ],
            [
             0.4444444444444444,
             "#bd3786"
            ],
            [
             0.5555555555555556,
             "#d8576b"
            ],
            [
             0.6666666666666666,
             "#ed7953"
            ],
            [
             0.7777777777777778,
             "#fb9f3a"
            ],
            [
             0.8888888888888888,
             "#fdca26"
            ],
            [
             1,
             "#f0f921"
            ]
           ]
          },
          "colorway": [
           "#636efa",
           "#EF553B",
           "#00cc96",
           "#ab63fa",
           "#FFA15A",
           "#19d3f3",
           "#FF6692",
           "#B6E880",
           "#FF97FF",
           "#FECB52"
          ],
          "font": {
           "color": "#2a3f5f"
          },
          "geo": {
           "bgcolor": "white",
           "lakecolor": "white",
           "landcolor": "#E5ECF6",
           "showlakes": true,
           "showland": true,
           "subunitcolor": "white"
          },
          "hoverlabel": {
           "align": "left"
          },
          "hovermode": "closest",
          "mapbox": {
           "style": "light"
          },
          "paper_bgcolor": "white",
          "plot_bgcolor": "#E5ECF6",
          "polar": {
           "angularaxis": {
            "gridcolor": "white",
            "linecolor": "white",
            "ticks": ""
           },
           "bgcolor": "#E5ECF6",
           "radialaxis": {
            "gridcolor": "white",
            "linecolor": "white",
            "ticks": ""
           }
          },
          "scene": {
           "xaxis": {
            "backgroundcolor": "#E5ECF6",
            "gridcolor": "white",
            "gridwidth": 2,
            "linecolor": "white",
            "showbackground": true,
            "ticks": "",
            "zerolinecolor": "white"
           },
           "yaxis": {
            "backgroundcolor": "#E5ECF6",
            "gridcolor": "white",
            "gridwidth": 2,
            "linecolor": "white",
            "showbackground": true,
            "ticks": "",
            "zerolinecolor": "white"
           },
           "zaxis": {
            "backgroundcolor": "#E5ECF6",
            "gridcolor": "white",
            "gridwidth": 2,
            "linecolor": "white",
            "showbackground": true,
            "ticks": "",
            "zerolinecolor": "white"
           }
          },
          "shapedefaults": {
           "line": {
            "color": "#2a3f5f"
           }
          },
          "ternary": {
           "aaxis": {
            "gridcolor": "white",
            "linecolor": "white",
            "ticks": ""
           },
           "baxis": {
            "gridcolor": "white",
            "linecolor": "white",
            "ticks": ""
           },
           "bgcolor": "#E5ECF6",
           "caxis": {
            "gridcolor": "white",
            "linecolor": "white",
            "ticks": ""
           }
          },
          "title": {
           "x": 0.05
          },
          "xaxis": {
           "automargin": true,
           "gridcolor": "white",
           "linecolor": "white",
           "ticks": "",
           "title": {
            "standoff": 15
           },
           "zerolinecolor": "white",
           "zerolinewidth": 2
          },
          "yaxis": {
           "automargin": true,
           "gridcolor": "white",
           "linecolor": "white",
           "ticks": "",
           "title": {
            "standoff": 15
           },
           "zerolinecolor": "white",
           "zerolinewidth": 2
          }
         }
        }
       }
      },
      "text/html": [
       "<div>                            <div id=\"ec083676-18d7-458b-abff-bbd9f8105512\" class=\"plotly-graph-div\" style=\"height:525px; width:100%;\"></div>            <script type=\"text/javascript\">                require([\"plotly\"], function(Plotly) {                    window.PLOTLYENV=window.PLOTLYENV || {};                                    if (document.getElementById(\"ec083676-18d7-458b-abff-bbd9f8105512\")) {                    Plotly.newPlot(                        \"ec083676-18d7-458b-abff-bbd9f8105512\",                        [{\"hovertemplate\":\"0=%{x}<br>1=%{y}<br>2=%{z}<br>y=%{marker.color}<extra></extra>\",\"legendgroup\":\"\",\"marker\":{\"color\":[2,0,2,1,0,0,0,2,0,0,1,0,1,1,2,2,0,0,2,0,2,0,0,2,0,1,2,1,0,1,0,2,1,2,1,0,2,0,2,0,1,1,0,2,1,1,0,2,1,2,0,1,0,2,1,1,1,1,1,1,2,1,2,2,0,2,1,1,2,0,2,2,2,0,2,0,0,2,2,2,0,1,2,2,0,1,1,1,1,1,0,2,1,2,0,0,1,0,1,0],\"coloraxis\":\"coloraxis\",\"symbol\":\"circle\"},\"mode\":\"markers\",\"name\":\"\",\"scene\":\"scene\",\"showlegend\":false,\"x\":[1.5434616143638005,-2.1583863094133893,1.114588245027226,-0.011795368288838958,-2.4080688795111094,-2.5592412410231034,-2.2069427195160083,1.3089548668800186,-2.1180367126620543,-2.0891276703471378,1.0321178519605645,-2.162122245470228,-0.46996285301930774,0.5123963465434247,1.7351545022897497,0.9286153003798273,-2.392374927733978,-2.3511380629319603,2.1477925155404423,-2.096622149727053,1.4213772336627295,-2.19193782656469,-2.1945956263000435,2.2652344214051294,-2.4857059294705834,0.8895181061499697,1.13171020128447,0.2489619538951847,-2.6040351033859532,0.24844048819461798,-2.198175899006432,1.953597491229591,0.09582819242771648,2.7285499124810597,0.5452321931859826,-1.936706242851039,1.2097130535940606,-2.3002737212526143,1.550415357314286,-2.2377938910575352,-0.05285729901154329,-0.06838032112605498,-2.166071657064106,1.8031408002263394,-0.009830631795991404,0.8390002960918769,-2.0177519679749625,1.114588245027226,0.7142547791180788,2.3860697361220957,-2.25262384992954,0.3025033660387475,-2.3132906025655284,1.8052970728693096,0.6683787760170499,0.44385004144854323,1.018751102489023,0.5995052100297774,0.9885730555818196,0.8423897005274632,0.9409238521380664,1.2091716492853104,2.3682195117019935,1.2841316287805686,-2.023452640524649,1.3276764251593136,0.21165522995818198,1.2018521039847097,1.8324156448913707,-2.2738475445937394,3.222599453205792,1.8117286822399077,2.684308716322435,-2.3406040472750864,1.2040117131650532,-2.292588373601897,-1.9356473772584164,2.217569283769887,1.3964135985249977,1.5061582269641716,-2.137143344020328,1.0669184350959695,1.9889388107944252,1.9066785567274283,-1.8098237239631325,1.1815156773711935,0.5964623372154444,1.1638370504930318,0.07352302490465931,0.4156533331049971,-2.2313808845364793,1.6616191907372302,0.2594959695520583,1.9926940175801269,-2.035414660661635,-2.1765864019921173,1.0133770229524068,-2.052186748760252,-0.1502900391551045,-2.3646956806743047],\"y\":[-0.9855554575796518,-0.4140252534899427,0.7081219905039388,1.0281205261683009,-0.0008627467568060441,-1.664681124051605,-2.5135379557442916,-0.3581731575224948,0.5332599750961357,0.4934376715833607,0.2576700187856024,0.5025464156704332,1.523371040280821,1.7491368090840467,0.2250793606997656,0.06288290346672018,-2.0013876021542067,-0.5673048636752419,-0.48177874222818373,-1.0455530794446095,0.4583942237194111,-0.8988493748188096,-0.08521232964341971,-2.4503748483688876,-0.5164004275113755,0.029907768533787606,0.35178408562672814,1.3182368981593031,0.9653981687364426,1.1152680416411318,0.7504995426604131,-0.9596363121887549,1.5445852098106536,-0.7547171599911331,0.20301070253302272,0.6538526372917132,1.1511504197560116,-1.028550781101459,-0.6039541471789842,0.37087162082376374,0.46759857494192486,1.0676546427378646,-1.363283870640041,-0.5925044616036638,1.5556673424617455,-0.17943824477441167,-0.5701258891460275,0.7081219905039388,-0.3395650235395528,-2.390921118081503,-0.37025617284912915,0.9977745196668277,1.1127576132296828,-0.7983737095736367,0.11941931837943431,0.4549106066510416,0.651856838611568,0.4502056307899773,1.3843458999872036,-0.42541798320037194,0.5823673613493286,0.13744490951425334,-0.18452701471412888,0.5121990513350795,-0.18110103627909455,-0.6144768298665215,0.7955638618816812,-0.5279850542611308,-0.348498111741723,0.6188247478137436,0.04623191689337312,-0.47605732530559586,-0.7045709225602915,-1.0214154255784058,1.6838592030084885,-0.07929216395136104,-0.4035025708024054,-1.7890604658763016,0.09001723868861175,0.9094850113823192,-0.4486855900436842,-0.7609092714719788,-0.8208261618190335,-0.9065896833061118,-0.3463104160222518,0.9478933762946288,0.025593438481520073,1.6101347616749977,0.21888724921891986,0.10796963280411383,-0.40491650940287016,-0.9232013358404648,0.8641263362561384,-0.782977246870278,-1.3711774248961193,0.045247275372255515,-0.4404468929795031,0.732282054486268,2.585328765370418,0.41661409002859734],\"z\":[0.9401298749256455,-0.05138256085628362,0.5692628766989585,0.5728863304597748,0.3236575049187121,-0.000500017586230398,-0.029081397385029097,0.2037957358990549,-0.060520707900669136,-0.15290229764167143,-0.3446542589060817,-0.23574531118920025,0.24300311369816385,-0.6741370465186055,0.3130109205938681,0.548513353463484,-0.13067572648961837,-0.0004597740486477561,-0.15992444173311723,0.2162579809548684,1.0324427671034078,-0.19831727239428124,0.10911559625767071,-0.49155363518988,0.0014981900921830125,-0.5461764410226944,0.1734389389068686,0.14529135056619713,0.19377328406358954,0.14173560789603976,-0.2074897682202864,0.6423847671055704,-0.08452072330094908,-0.4878830566629378,-0.22971436642717918,-0.2790874859441947,0.6313966105485955,0.10309251919677292,0.6518144021982211,0.07324509245449558,0.22602721533449074,-0.2617778830495133,-0.0346638017592574,0.0207392760471992,-0.17494434890111968,-0.4295298289136437,-0.4810100972098952,0.5692628766989585,0.6237011626391692,-0.13352381656017637,0.02583780477943459,-0.14298977337960714,0.16559233341387766,1.004330514016936,-0.39931632180389964,-0.21662004756354858,0.15113188067965133,-0.24639877674258603,-0.6007236680637276,-0.4653659839351992,0.8555114441847295,-0.6667389814134077,-0.6627818231215833,0.047253750604345585,0.08245783181808333,0.3033231597619913,-0.10160556276544369,-0.5142218655011825,0.06415604312139637,0.10150063542340955,-0.6230974509090247,-0.6665210992117642,-0.5308650458064266,0.027830117701885558,-0.18411585825454438,0.0863737600997458,0.29710868157994624,0.39559679487475113,0.19824768030644693,0.039747730870905856,-0.21144594003953157,-0.6480622581755496,0.2581319619669868,-0.387744202677813,-0.26432669098799916,-0.29920493537185133,0.009636283633440264,-0.3916208738944731,0.15283171908125606,0.23175880434712245,-0.13422557440381258,0.3110127129154547,0.1735812423167307,0.3580941637606308,-0.004341353548690889,-0.14735424204906292,-0.3597811342297452,-0.04180374112522861,0.03804002476817775,0.14288484603757298],\"type\":\"scatter3d\"}],                        {\"template\":{\"data\":{\"bar\":[{\"error_x\":{\"color\":\"#2a3f5f\"},\"error_y\":{\"color\":\"#2a3f5f\"},\"marker\":{\"line\":{\"color\":\"#E5ECF6\",\"width\":0.5},\"pattern\":{\"fillmode\":\"overlay\",\"size\":10,\"solidity\":0.2}},\"type\":\"bar\"}],\"barpolar\":[{\"marker\":{\"line\":{\"color\":\"#E5ECF6\",\"width\":0.5},\"pattern\":{\"fillmode\":\"overlay\",\"size\":10,\"solidity\":0.2}},\"type\":\"barpolar\"}],\"carpet\":[{\"aaxis\":{\"endlinecolor\":\"#2a3f5f\",\"gridcolor\":\"white\",\"linecolor\":\"white\",\"minorgridcolor\":\"white\",\"startlinecolor\":\"#2a3f5f\"},\"baxis\":{\"endlinecolor\":\"#2a3f5f\",\"gridcolor\":\"white\",\"linecolor\":\"white\",\"minorgridcolor\":\"white\",\"startlinecolor\":\"#2a3f5f\"},\"type\":\"carpet\"}],\"choropleth\":[{\"colorbar\":{\"outlinewidth\":0,\"ticks\":\"\"},\"type\":\"choropleth\"}],\"contour\":[{\"colorbar\":{\"outlinewidth\":0,\"ticks\":\"\"},\"colorscale\":[[0.0,\"#0d0887\"],[0.1111111111111111,\"#46039f\"],[0.2222222222222222,\"#7201a8\"],[0.3333333333333333,\"#9c179e\"],[0.4444444444444444,\"#bd3786\"],[0.5555555555555556,\"#d8576b\"],[0.6666666666666666,\"#ed7953\"],[0.7777777777777778,\"#fb9f3a\"],[0.8888888888888888,\"#fdca26\"],[1.0,\"#f0f921\"]],\"type\":\"contour\"}],\"contourcarpet\":[{\"colorbar\":{\"outlinewidth\":0,\"ticks\":\"\"},\"type\":\"contourcarpet\"}],\"heatmap\":[{\"colorbar\":{\"outlinewidth\":0,\"ticks\":\"\"},\"colorscale\":[[0.0,\"#0d0887\"],[0.1111111111111111,\"#46039f\"],[0.2222222222222222,\"#7201a8\"],[0.3333333333333333,\"#9c179e\"],[0.4444444444444444,\"#bd3786\"],[0.5555555555555556,\"#d8576b\"],[0.6666666666666666,\"#ed7953\"],[0.7777777777777778,\"#fb9f3a\"],[0.8888888888888888,\"#fdca26\"],[1.0,\"#f0f921\"]],\"type\":\"heatmap\"}],\"heatmapgl\":[{\"colorbar\":{\"outlinewidth\":0,\"ticks\":\"\"},\"colorscale\":[[0.0,\"#0d0887\"],[0.1111111111111111,\"#46039f\"],[0.2222222222222222,\"#7201a8\"],[0.3333333333333333,\"#9c179e\"],[0.4444444444444444,\"#bd3786\"],[0.5555555555555556,\"#d8576b\"],[0.6666666666666666,\"#ed7953\"],[0.7777777777777778,\"#fb9f3a\"],[0.8888888888888888,\"#fdca26\"],[1.0,\"#f0f921\"]],\"type\":\"heatmapgl\"}],\"histogram\":[{\"marker\":{\"pattern\":{\"fillmode\":\"overlay\",\"size\":10,\"solidity\":0.2}},\"type\":\"histogram\"}],\"histogram2d\":[{\"colorbar\":{\"outlinewidth\":0,\"ticks\":\"\"},\"colorscale\":[[0.0,\"#0d0887\"],[0.1111111111111111,\"#46039f\"],[0.2222222222222222,\"#7201a8\"],[0.3333333333333333,\"#9c179e\"],[0.4444444444444444,\"#bd3786\"],[0.5555555555555556,\"#d8576b\"],[0.6666666666666666,\"#ed7953\"],[0.7777777777777778,\"#fb9f3a\"],[0.8888888888888888,\"#fdca26\"],[1.0,\"#f0f921\"]],\"type\":\"histogram2d\"}],\"histogram2dcontour\":[{\"colorbar\":{\"outlinewidth\":0,\"ticks\":\"\"},\"colorscale\":[[0.0,\"#0d0887\"],[0.1111111111111111,\"#46039f\"],[0.2222222222222222,\"#7201a8\"],[0.3333333333333333,\"#9c179e\"],[0.4444444444444444,\"#bd3786\"],[0.5555555555555556,\"#d8576b\"],[0.6666666666666666,\"#ed7953\"],[0.7777777777777778,\"#fb9f3a\"],[0.8888888888888888,\"#fdca26\"],[1.0,\"#f0f921\"]],\"type\":\"histogram2dcontour\"}],\"mesh3d\":[{\"colorbar\":{\"outlinewidth\":0,\"ticks\":\"\"},\"type\":\"mesh3d\"}],\"parcoords\":[{\"line\":{\"colorbar\":{\"outlinewidth\":0,\"ticks\":\"\"}},\"type\":\"parcoords\"}],\"pie\":[{\"automargin\":true,\"type\":\"pie\"}],\"scatter\":[{\"marker\":{\"colorbar\":{\"outlinewidth\":0,\"ticks\":\"\"}},\"type\":\"scatter\"}],\"scatter3d\":[{\"line\":{\"colorbar\":{\"outlinewidth\":0,\"ticks\":\"\"}},\"marker\":{\"colorbar\":{\"outlinewidth\":0,\"ticks\":\"\"}},\"type\":\"scatter3d\"}],\"scattercarpet\":[{\"marker\":{\"colorbar\":{\"outlinewidth\":0,\"ticks\":\"\"}},\"type\":\"scattercarpet\"}],\"scattergeo\":[{\"marker\":{\"colorbar\":{\"outlinewidth\":0,\"ticks\":\"\"}},\"type\":\"scattergeo\"}],\"scattergl\":[{\"marker\":{\"colorbar\":{\"outlinewidth\":0,\"ticks\":\"\"}},\"type\":\"scattergl\"}],\"scattermapbox\":[{\"marker\":{\"colorbar\":{\"outlinewidth\":0,\"ticks\":\"\"}},\"type\":\"scattermapbox\"}],\"scatterpolar\":[{\"marker\":{\"colorbar\":{\"outlinewidth\":0,\"ticks\":\"\"}},\"type\":\"scatterpolar\"}],\"scatterpolargl\":[{\"marker\":{\"colorbar\":{\"outlinewidth\":0,\"ticks\":\"\"}},\"type\":\"scatterpolargl\"}],\"scatterternary\":[{\"marker\":{\"colorbar\":{\"outlinewidth\":0,\"ticks\":\"\"}},\"type\":\"scatterternary\"}],\"surface\":[{\"colorbar\":{\"outlinewidth\":0,\"ticks\":\"\"},\"colorscale\":[[0.0,\"#0d0887\"],[0.1111111111111111,\"#46039f\"],[0.2222222222222222,\"#7201a8\"],[0.3333333333333333,\"#9c179e\"],[0.4444444444444444,\"#bd3786\"],[0.5555555555555556,\"#d8576b\"],[0.6666666666666666,\"#ed7953\"],[0.7777777777777778,\"#fb9f3a\"],[0.8888888888888888,\"#fdca26\"],[1.0,\"#f0f921\"]],\"type\":\"surface\"}],\"table\":[{\"cells\":{\"fill\":{\"color\":\"#EBF0F8\"},\"line\":{\"color\":\"white\"}},\"header\":{\"fill\":{\"color\":\"#C8D4E3\"},\"line\":{\"color\":\"white\"}},\"type\":\"table\"}]},\"layout\":{\"annotationdefaults\":{\"arrowcolor\":\"#2a3f5f\",\"arrowhead\":0,\"arrowwidth\":1},\"autotypenumbers\":\"strict\",\"coloraxis\":{\"colorbar\":{\"outlinewidth\":0,\"ticks\":\"\"}},\"colorscale\":{\"diverging\":[[0,\"#8e0152\"],[0.1,\"#c51b7d\"],[0.2,\"#de77ae\"],[0.3,\"#f1b6da\"],[0.4,\"#fde0ef\"],[0.5,\"#f7f7f7\"],[0.6,\"#e6f5d0\"],[0.7,\"#b8e186\"],[0.8,\"#7fbc41\"],[0.9,\"#4d9221\"],[1,\"#276419\"]],\"sequential\":[[0.0,\"#0d0887\"],[0.1111111111111111,\"#46039f\"],[0.2222222222222222,\"#7201a8\"],[0.3333333333333333,\"#9c179e\"],[0.4444444444444444,\"#bd3786\"],[0.5555555555555556,\"#d8576b\"],[0.6666666666666666,\"#ed7953\"],[0.7777777777777778,\"#fb9f3a\"],[0.8888888888888888,\"#fdca26\"],[1.0,\"#f0f921\"]],\"sequentialminus\":[[0.0,\"#0d0887\"],[0.1111111111111111,\"#46039f\"],[0.2222222222222222,\"#7201a8\"],[0.3333333333333333,\"#9c179e\"],[0.4444444444444444,\"#bd3786\"],[0.5555555555555556,\"#d8576b\"],[0.6666666666666666,\"#ed7953\"],[0.7777777777777778,\"#fb9f3a\"],[0.8888888888888888,\"#fdca26\"],[1.0,\"#f0f921\"]]},\"colorway\":[\"#636efa\",\"#EF553B\",\"#00cc96\",\"#ab63fa\",\"#FFA15A\",\"#19d3f3\",\"#FF6692\",\"#B6E880\",\"#FF97FF\",\"#FECB52\"],\"font\":{\"color\":\"#2a3f5f\"},\"geo\":{\"bgcolor\":\"white\",\"lakecolor\":\"white\",\"landcolor\":\"#E5ECF6\",\"showlakes\":true,\"showland\":true,\"subunitcolor\":\"white\"},\"hoverlabel\":{\"align\":\"left\"},\"hovermode\":\"closest\",\"mapbox\":{\"style\":\"light\"},\"paper_bgcolor\":\"white\",\"plot_bgcolor\":\"#E5ECF6\",\"polar\":{\"angularaxis\":{\"gridcolor\":\"white\",\"linecolor\":\"white\",\"ticks\":\"\"},\"bgcolor\":\"#E5ECF6\",\"radialaxis\":{\"gridcolor\":\"white\",\"linecolor\":\"white\",\"ticks\":\"\"}},\"scene\":{\"xaxis\":{\"backgroundcolor\":\"#E5ECF6\",\"gridcolor\":\"white\",\"gridwidth\":2,\"linecolor\":\"white\",\"showbackground\":true,\"ticks\":\"\",\"zerolinecolor\":\"white\"},\"yaxis\":{\"backgroundcolor\":\"#E5ECF6\",\"gridcolor\":\"white\",\"gridwidth\":2,\"linecolor\":\"white\",\"showbackground\":true,\"ticks\":\"\",\"zerolinecolor\":\"white\"},\"zaxis\":{\"backgroundcolor\":\"#E5ECF6\",\"gridcolor\":\"white\",\"gridwidth\":2,\"linecolor\":\"white\",\"showbackground\":true,\"ticks\":\"\",\"zerolinecolor\":\"white\"}},\"shapedefaults\":{\"line\":{\"color\":\"#2a3f5f\"}},\"ternary\":{\"aaxis\":{\"gridcolor\":\"white\",\"linecolor\":\"white\",\"ticks\":\"\"},\"baxis\":{\"gridcolor\":\"white\",\"linecolor\":\"white\",\"ticks\":\"\"},\"bgcolor\":\"#E5ECF6\",\"caxis\":{\"gridcolor\":\"white\",\"linecolor\":\"white\",\"ticks\":\"\"}},\"title\":{\"x\":0.05},\"xaxis\":{\"automargin\":true,\"gridcolor\":\"white\",\"linecolor\":\"white\",\"ticks\":\"\",\"title\":{\"standoff\":15},\"zerolinecolor\":\"white\",\"zerolinewidth\":2},\"yaxis\":{\"automargin\":true,\"gridcolor\":\"white\",\"linecolor\":\"white\",\"ticks\":\"\",\"title\":{\"standoff\":15},\"zerolinecolor\":\"white\",\"zerolinewidth\":2}}},\"scene\":{\"domain\":{\"x\":[0.0,1.0],\"y\":[0.0,1.0]},\"xaxis\":{\"title\":{\"text\":\"0\"}},\"yaxis\":{\"title\":{\"text\":\"1\"}},\"zaxis\":{\"title\":{\"text\":\"2\"}}},\"coloraxis\":{\"colorbar\":{\"title\":{\"text\":\"y\"}},\"colorscale\":[[0.0,\"#0d0887\"],[0.1111111111111111,\"#46039f\"],[0.2222222222222222,\"#7201a8\"],[0.3333333333333333,\"#9c179e\"],[0.4444444444444444,\"#bd3786\"],[0.5555555555555556,\"#d8576b\"],[0.6666666666666666,\"#ed7953\"],[0.7777777777777778,\"#fb9f3a\"],[0.8888888888888888,\"#fdca26\"],[1.0,\"#f0f921\"]]},\"legend\":{\"tracegroupgap\":0},\"margin\":{\"t\":60}},                        {\"responsive\": true}                    ).then(function(){\n",
       "                            \n",
       "var gd = document.getElementById('ec083676-18d7-458b-abff-bbd9f8105512');\n",
       "var x = new MutationObserver(function (mutations, observer) {{\n",
       "        var display = window.getComputedStyle(gd).display;\n",
       "        if (!display || display === 'none') {{\n",
       "            console.log([gd, 'removed!']);\n",
       "            Plotly.purge(gd);\n",
       "            observer.disconnect();\n",
       "        }}\n",
       "}});\n",
       "\n",
       "// Listen for the removal of the full notebook cells\n",
       "var notebookContainer = gd.closest('#notebook-container');\n",
       "if (notebookContainer) {{\n",
       "    x.observe(notebookContainer, {childList: true});\n",
       "}}\n",
       "\n",
       "// Listen for the clearing of the current output cell\n",
       "var outputEl = gd.closest('.output');\n",
       "if (outputEl) {{\n",
       "    x.observe(outputEl, {childList: true});\n",
       "}}\n",
       "\n",
       "                        })                };                });            </script>        </div>"
      ]
     },
     "metadata": {},
     "output_type": "display_data"
    }
   ],
   "source": [
    "X_train_pcs_df = pd.DataFrame(X_train_pca)\n",
    "y_train['y'] = y_train[0]\n",
    "y_train.drop(0, axis=1, inplace = True)\n",
    "y_train.reset_index(inplace = True)\n",
    "df = pd.concat([X_train_pcs_df, y_train], axis = 1)\n",
    "fig = px.scatter_3d(df, x=0, y=1, z=2,\n",
    "              color='y')\n",
    "fig.show()"
   ]
  },
  {
   "cell_type": "markdown",
   "id": "90ff38c2",
   "metadata": {},
   "source": [
    "## Decision Tree Classifier"
   ]
  },
  {
   "cell_type": "code",
   "execution_count": 117,
   "id": "9790d27c",
   "metadata": {},
   "outputs": [
    {
     "data": {
      "text/plain": [
       "DecisionTreeClassifier()"
      ]
     },
     "execution_count": 117,
     "metadata": {},
     "output_type": "execute_result"
    }
   ],
   "source": [
    "clf = tree.DecisionTreeClassifier()\n",
    "clf.fit(X_train_pca, y_train)"
   ]
  },
  {
   "cell_type": "code",
   "execution_count": 112,
   "id": "02c15771",
   "metadata": {},
   "outputs": [
    {
     "data": {
      "text/plain": [
       "[Text(0.5, 0.9166666666666666, 'X[0] <= -1.14\\ngini = 0.667\\nsamples = 100\\nvalue = [34, 33, 33]'),\n",
       " Text(0.375, 0.75, 'gini = 0.0\\nsamples = 34\\nvalue = [34, 0, 0]'),\n",
       " Text(0.625, 0.75, 'X[0] <= 1.209\\ngini = 0.5\\nsamples = 66\\nvalue = [0, 33, 33]'),\n",
       " Text(0.5, 0.5833333333333334, 'X[2] <= 0.396\\ngini = 0.26\\nsamples = 39\\nvalue = [0, 33, 6]'),\n",
       " Text(0.25, 0.4166666666666667, 'X[0] <= 1.099\\ngini = 0.114\\nsamples = 33\\nvalue = [0, 31, 2]'),\n",
       " Text(0.125, 0.25, 'gini = 0.0\\nsamples = 27\\nvalue = [0, 27, 0]'),\n",
       " Text(0.375, 0.25, 'X[2] <= -0.242\\ngini = 0.444\\nsamples = 6\\nvalue = [0, 4, 2]'),\n",
       " Text(0.25, 0.08333333333333333, 'gini = 0.0\\nsamples = 4\\nvalue = [0, 4, 0]'),\n",
       " Text(0.5, 0.08333333333333333, 'gini = 0.0\\nsamples = 2\\nvalue = [0, 0, 2]'),\n",
       " Text(0.75, 0.4166666666666667, 'X[0] <= 0.821\\ngini = 0.444\\nsamples = 6\\nvalue = [0, 2, 4]'),\n",
       " Text(0.625, 0.25, 'gini = 0.0\\nsamples = 2\\nvalue = [0, 2, 0]'),\n",
       " Text(0.875, 0.25, 'gini = 0.0\\nsamples = 4\\nvalue = [0, 0, 4]'),\n",
       " Text(0.75, 0.5833333333333334, 'gini = 0.0\\nsamples = 27\\nvalue = [0, 0, 27]')]"
      ]
     },
     "execution_count": 112,
     "metadata": {},
     "output_type": "execute_result"
    },
    {
     "data": {
      "image/png": "[encoded data removed]",
      "text/plain": [
       "<Figure size 432x288 with 1 Axes>"
      ]
     },
     "metadata": {
      "needs_background": "light"
     },
     "output_type": "display_data"
    }
   ],
   "source": [
    "tree.plot_tree(clf, filled = 'True')"
   ]
  },
  {
   "cell_type": "code",
   "execution_count": 113,
   "id": "ce40bc34",
   "metadata": {},
   "outputs": [
    {
     "name": "stdout",
     "output_type": "stream",
     "text": [
      "training accuracy by the score function = 1.0\n",
      "testing accuracy by the score function = 0.92\n"
     ]
    }
   ],
   "source": [
    "# make prediction\n",
    "yhat_train = clf.predict(X_train_pca)\n",
    "yhat_test = clf.predict(X_test_pca)\n",
    "\n",
    "# accuracy by using the score function\n",
    "print('training accuracy by the score function = {}'.format(clf.score(X_train_pca, y_train)))\n",
    "print('testing accuracy by the score function = {}'.format(clf.score(X_test_pca, y_test)))"
   ]
  },
  {
   "cell_type": "code",
   "execution_count": 114,
   "id": "af43ae6e",
   "metadata": {},
   "outputs": [
    {
     "name": "stdout",
     "output_type": "stream",
     "text": [
      "Training Report\n",
      "              precision    recall  f1-score   support\n",
      "\n",
      "           0       1.00      1.00      1.00        34\n",
      "           1       1.00      1.00      1.00        33\n",
      "           2       1.00      1.00      1.00        33\n",
      "\n",
      "    accuracy                           1.00       100\n",
      "   macro avg       1.00      1.00      1.00       100\n",
      "weighted avg       1.00      1.00      1.00       100\n",
      "\n",
      "\n",
      "\n",
      "Testing Report\n",
      "              precision    recall  f1-score   support\n",
      "\n",
      "           0       1.00      1.00      1.00        16\n",
      "           1       0.84      0.94      0.89        17\n",
      "           2       0.93      0.82      0.87        17\n",
      "\n",
      "    accuracy                           0.92        50\n",
      "   macro avg       0.93      0.92      0.92        50\n",
      "weighted avg       0.92      0.92      0.92        50\n",
      "\n"
     ]
    }
   ],
   "source": [
    "print('Training Report')\n",
    "print(classification_report(y_train, yhat_train))\n",
    "print('\\n')\n",
    "print('Testing Report')\n",
    "print(classification_report(y_test, yhat_test))"
   ]
  },
  {
   "cell_type": "code",
   "execution_count": 120,
   "id": "d78e9e16",
   "metadata": {},
   "outputs": [
    {
     "data": {
      "text/plain": [
       "<matplotlib.collections.PathCollection at 0x2606bb05460>"
      ]
     },
     "execution_count": 120,
     "metadata": {},
     "output_type": "execute_result"
    },
    {
     "data": {
      "image/png": "[encoded data removed]",
      "text/plain": [
       "<Figure size 432x288 with 1 Axes>"
      ]
     },
     "metadata": {
      "needs_background": "light"
     },
     "output_type": "display_data"
    }
   ],
   "source": [
    "#### create the grid #####\n",
    "\n",
    "# define the x and y scale\n",
    "x1grid = np.arange(X.iloc[:, 0].min(), X.iloc[:, 0].max(), 0.3)\n",
    "x2grid = np.arange(X.iloc[:, 1].min(), X.iloc[:, 1].max(), 0.3)\n",
    "x3grid = np.arange(X.iloc[:, 2].min(), X.iloc[:, 2].max(), 0.3)\n",
    "x4grid = np.arange(X.iloc[:, 3].min(), X.iloc[:, 3].max(), 0.3)\n",
    "\n",
    "# create all of the lines and rows of the grid\n",
    "xx, yy, zz, ll = np.meshgrid(x1grid, x2grid, x3grid, x4grid)\n",
    "\n",
    "# flatten each grid to a vector\n",
    "r1, r2, r3, r4 = xx.flatten(), yy.flatten(), zz.flatten(), ll.flatten()\n",
    "r1, r2, r3, r4 = r1.reshape((len(r1), 1)), r2.reshape((len(r2), 1)), r3.reshape((len(r3), 1)), r4.reshape((len(r4), 1))\n",
    "\n",
    "# horizontal stack vectors to create x1,x2 input for the model\n",
    "grid = np.hstack((r1, r2, r3, r4))\n",
    "grid_standardized = scaler.transform(grid)\n",
    "grid_pca = pca.transform(grid_standardized)\n",
    "\n",
    "# make predictions for the grid\n",
    "yhat = clf.predict(grid_pca)\n",
    "\n",
    "# reshape predictions\n",
    "zz = yhat.reshape(xx.shape)\n",
    "\n",
    "# get the pca transformation of grid\n",
    "\n",
    "grid_pca_2 = grid_pca[:, 0:2]\n",
    "\n",
    "#\n",
    "plt.scatter(grid_pca[:, 0], grid_pca[:, 1], c = yhat, marker = '.')\n",
    "\n",
    "\n",
    "# # plot the grid of x, y and z values as a surface\n",
    "# plt.contourf(xx, yy, zz, cmap='Paired')\n",
    "# plt.scatter(df['x1'], df['x2'], c=df['y'], alpha=0.5)\n",
    "# plt.ylim([x2min, x2max])\n",
    "# plt.xlim([x1min, x1max])"
   ]
  },
  {
   "cell_type": "markdown",
   "id": "08ddc3da",
   "metadata": {},
   "source": [
    "## Random Forest"
   ]
  },
  {
   "cell_type": "code",
   "execution_count": 119,
   "id": "66282261",
   "metadata": {},
   "outputs": [
    {
     "data": {
      "text/plain": [
       "RandomForestClassifier(max_depth=3, max_leaf_nodes=20, max_samples=0.8,\n",
       "                       min_samples_leaf=2, n_estimators=3000, random_state=0)"
      ]
     },
     "execution_count": 119,
     "metadata": {},
     "output_type": "execute_result"
    }
   ],
   "source": [
    "clf_rf = RandomForestClassifier(random_state=0, max_depth=3, n_estimators = 3000, max_samples = 0.8, \n",
    "                                max_leaf_nodes = 20, min_samples_leaf = 2)\n",
    "clf_rf.fit(X_train_pca, y_train)"
   ]
  },
  {
   "cell_type": "code",
   "execution_count": 66,
   "id": "59038f0d",
   "metadata": {},
   "outputs": [
    {
     "name": "stdout",
     "output_type": "stream",
     "text": [
      "training accuracy by the score function = 0.98\n",
      "testing accuracy by the score function = 0.9\n"
     ]
    }
   ],
   "source": [
    "# make prediction\n",
    "yhat_train = clf_rf.predict(X_train_pca)\n",
    "yhat_test = clf_rf.predict(X_test_pca)\n",
    "\n",
    "# accuracy by using the score function\n",
    "print('training accuracy by the score function = {}'.format(clf_rf.score(X_train_pca, y_train)))\n",
    "print('testing accuracy by the score function = {}'.format(clf_rf.score(X_test_pca, y_test)))"
   ]
  },
  {
   "cell_type": "code",
   "execution_count": 67,
   "id": "5789a226",
   "metadata": {},
   "outputs": [
    {
     "name": "stdout",
     "output_type": "stream",
     "text": [
      "Training Report\n",
      "              precision    recall  f1-score   support\n",
      "\n",
      "           0       1.00      1.00      1.00        34\n",
      "           1       0.94      1.00      0.97        33\n",
      "           2       1.00      0.94      0.97        33\n",
      "\n",
      "    accuracy                           0.98       100\n",
      "   macro avg       0.98      0.98      0.98       100\n",
      "weighted avg       0.98      0.98      0.98       100\n",
      "\n",
      "\n",
      "\n",
      "Testing Report\n",
      "              precision    recall  f1-score   support\n",
      "\n",
      "           0       1.00      1.00      1.00        16\n",
      "           1       0.83      0.88      0.86        17\n",
      "           2       0.88      0.82      0.85        17\n",
      "\n",
      "    accuracy                           0.90        50\n",
      "   macro avg       0.90      0.90      0.90        50\n",
      "weighted avg       0.90      0.90      0.90        50\n",
      "\n"
     ]
    }
   ],
   "source": [
    "print('Training Report')\n",
    "print(classification_report(y_train, yhat_train))\n",
    "print('\\n')\n",
    "print('Testing Report')\n",
    "print(classification_report(y_test, yhat_test))"
   ]
  },
  {
   "cell_type": "code",
   "execution_count": 116,
   "id": "be6db74d",
   "metadata": {},
   "outputs": [
    {
     "data": {
      "text/plain": [
       "([<matplotlib.axis.XTick at 0x2606ba090d0>,\n",
       "  <matplotlib.axis.XTick at 0x2606ba09f70>,\n",
       "  <matplotlib.axis.XTick at 0x2606ba77460>,\n",
       "  <matplotlib.axis.XTick at 0x2606ba9f1c0>],\n",
       " [Text(0, 0, 'sepal length (cm)'),\n",
       "  Text(1, 0, 'sepal width (cm)'),\n",
       "  Text(2, 0, 'petal length (cm)'),\n",
       "  Text(3, 0, 'petal width (cm)')])"
      ]
     },
     "execution_count": 116,
     "metadata": {},
     "output_type": "execute_result"
    },
    {
     "data": {
      "image/png": "[encoded data removed]",
      "text/plain": [
       "<Figure size 432x288 with 1 Axes>"
      ]
     },
     "metadata": {
      "needs_background": "light"
     },
     "output_type": "display_data"
    }
   ],
   "source": [
    "# feature importance\n",
    "plt.plot(clf_rf.feature_importances_)\n",
    "plt.xticks(np.arange(len(clf_rf.feature_importances_)), X.columns, rotation='vertical')"
   ]
  }
 ],
 "metadata": {
  "kernelspec": {
   "display_name": "Python 3 (ipykernel)",
   "language": "python",
   "name": "python3"
  },
  "language_info": {
   "codemirror_mode": {
    "name": "ipython",
    "version": 3
   },
   "file_extension": ".py",
   "mimetype": "text/x-python",
   "name": "python",
   "nbconvert_exporter": "python",
   "pygments_lexer": "ipython3",
   "version": "3.9.12"
  }
 },
 "nbformat": 4,
 "nbformat_minor": 5
}
